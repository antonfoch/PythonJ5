{
 "cells": [
  {
   "cell_type": "markdown",
   "metadata": {},
   "source": [
    "# Exercise 00"
   ]
  },
  {
   "cell_type": "code",
   "execution_count": 2,
   "metadata": {},
   "outputs": [
    {
     "name": "stdout",
     "output_type": "stream",
     "text": [
      "Let's go already!\n"
     ]
    }
   ],
   "source": [
    "print(\"Let's go already!\")"
   ]
  },
  {
   "cell_type": "markdown",
   "metadata": {},
   "source": [
    "# Exercise 01"
   ]
  },
  {
   "cell_type": "code",
   "execution_count": 3,
   "metadata": {},
   "outputs": [
    {
     "name": "stdout",
     "output_type": "stream",
     "text": [
      "         date    open    high     low\n",
      "0  1566576000  137.19  138.35  132.80\n",
      "1  1566835200  134.99  135.56  133.90\n",
      "2  1566921600  136.39  136.72  134.66\n",
      "3  1567008000  134.88  135.76  133.55\n",
      "4  1567094400  137.25  138.44  136.91\n",
      "    close    volume\n",
      "0  133.39  38515386\n",
      "1  135.45  20325271\n",
      "2  135.74  23115635\n",
      "3  135.56  17410828\n",
      "4  138.12  20179716\n"
     ]
    }
   ],
   "source": [
    "import pandas as pd\n",
    "\n",
    "data = pd.read_csv('D-POO-300_05_dataset-stock.csv')\n",
    "\n",
    "fourrows = pd.DataFrame(data, columns=['date', 'open', 'high', 'low'])\n",
    "tworows = pd.DataFrame(data, columns=['close', 'volume'])\n",
    "print(fourrows.head())\n",
    "print(tworows.head())\n"
   ]
  },
  {
   "cell_type": "markdown",
   "metadata": {},
   "source": [
    "# Exercise 01bis"
   ]
  },
  {
   "cell_type": "code",
   "execution_count": 8,
   "metadata": {},
   "outputs": [
    {
     "name": "stdout",
     "output_type": "stream",
     "text": [
      "Number of lines: 364\n",
      "Column headers: ['date', 'open', 'high', 'low', 'close', 'volume']\n",
      "Number of non-values: date      364\n",
      "open      364\n",
      "high      364\n",
      "low       364\n",
      "close     364\n",
      "volume    364\n",
      "dtype: int64\n",
      "Data types: date        int64\n",
      "open      float64\n",
      "high      float64\n",
      "low       float64\n",
      "close     float64\n",
      "volume      int64\n",
      "dtype: object\n"
     ]
    }
   ],
   "source": [
    "import pandas as pd\n",
    "\n",
    "data = pd.read_csv('D-POO-300_05_dataset-stock.csv')\n",
    "\n",
    "num_lines = len(data)\n",
    "column_headers = list(data.columns.values)\n",
    "non_values = data.count()\n",
    "type = data.dtypes\n",
    "print(\"Number of lines: \" + str(num_lines))\n",
    "print(\"Column headers: \" + str(column_headers))\n",
    "print(\"Number of non-values: \" + str(non_values))\n",
    "print(\"Data types: \" + str(type))\n"
   ]
  },
  {
   "cell_type": "markdown",
   "metadata": {},
   "source": [
    "\n",
    "# Exercise 01ter"
   ]
  },
  {
   "cell_type": "code",
   "execution_count": 12,
   "metadata": {},
   "outputs": [
    {
     "name": "stdout",
     "output_type": "stream",
     "text": [
      "               date        open        high         low       close  \\\n",
      "count  3.640000e+02  364.000000  364.000000  364.000000  364.000000   \n",
      "mean   1.589411e+09  182.654588  184.780604  180.481016  182.728214   \n",
      "std    1.318049e+07   30.368445   30.716112   30.031516   30.381187   \n",
      "min    1.566576e+09  134.880000  135.560000  132.520000  133.390000   \n",
      "25%    1.578046e+09  152.272500  155.652500  151.117500  153.780000   \n",
      "50%    1.589429e+09  184.100000  185.850000  182.390000  183.670000   \n",
      "75%    1.600812e+09  211.537500  214.122500  208.967500  211.517500   \n",
      "max    1.612282e+09  241.300000  242.640000  238.690000  239.650000   \n",
      "\n",
      "             volume  \n",
      "count  3.640000e+02  \n",
      "mean   3.365621e+07  \n",
      "std    1.616370e+07  \n",
      "min    1.016120e+05  \n",
      "25%    2.305799e+07  \n",
      "50%    2.947899e+07  \n",
      "75%    3.735675e+07  \n",
      "max    9.707356e+07  \n"
     ]
    }
   ],
   "source": [
    "import pandas as pd\n",
    "\n",
    "data = pd.read_csv('D-POO-300_05_dataset-stock.csv')\n",
    "\n",
    "description = data.describe()\n",
    "\n",
    "print(description)\n"
   ]
  },
  {
   "cell_type": "markdown",
   "metadata": {},
   "source": [
    "# Exercice 2"
   ]
  },
  {
   "cell_type": "code",
   "execution_count": null,
   "metadata": {},
   "outputs": [],
   "source": [
    "import pandas as pd\n",
    "\n",
    "data = pd.read_csv('D-POO-300_05_dataset-penguins.csv')"
   ]
  }
 ],
 "metadata": {
  "kernelspec": {
   "display_name": "Python 3",
   "language": "python",
   "name": "python3"
  },
  "language_info": {
   "codemirror_mode": {
    "name": "ipython",
    "version": 3
   },
   "file_extension": ".py",
   "mimetype": "text/x-python",
   "name": "python",
   "nbconvert_exporter": "python",
   "pygments_lexer": "ipython3",
   "version": "3.10.7"
  },
  "orig_nbformat": 4
 },
 "nbformat": 4,
 "nbformat_minor": 2
}
